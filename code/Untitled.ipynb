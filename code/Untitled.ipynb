{
 "cells": [
  {
   "cell_type": "code",
   "execution_count": 8,
   "id": "c053b6a6-236f-45c1-83a8-04be2292cd0d",
   "metadata": {
    "tags": []
   },
   "outputs": [],
   "source": [
    "from run_capsule import *\n",
    "from decoding_utils import *\n",
    "import sys\n",
    "sys.argv[1:] = ['--result_prefix', 'debug']\n",
    "params = Params()"
   ]
  },
  {
   "cell_type": "code",
   "execution_count": 14,
   "id": "13c67aa4-86b1-4f20-91db-f69b0ed1f5f5",
   "metadata": {
    "tags": []
   },
   "outputs": [],
   "source": [
    "units = get_filtered_units(params).collect()"
   ]
  },
  {
   "cell_type": "code",
   "execution_count": 18,
   "id": "7dd08316-f243-4ceb-ad55-a0458ebca0a6",
   "metadata": {
    "tags": []
   },
   "outputs": [],
   "source": [
    "units = utils.get_df('units', lazy=False)"
   ]
  },
  {
   "cell_type": "code",
   "execution_count": 21,
   "id": "58ecfa91-acf2-47ee-9647-6ef1e94205ec",
   "metadata": {
    "tags": []
   },
   "outputs": [
    {
     "data": {
      "text/plain": [
       "[<Expr ['col(\"session_id\")'] at 0x7EFC096D8B80>,\n",
       " <Expr ['col(\"structure\")'] at 0x7EFC096D9F90>,\n",
       " <Expr ['col(\"electrode_group_name\")'] at 0x7EFC096D9720>]"
      ]
     },
     "execution_count": 21,
     "metadata": {},
     "output_type": "execute_result"
    }
   ],
   "source": [
    "params.units_group_by"
   ]
  },
  {
   "cell_type": "code",
   "execution_count": 31,
   "id": "95d09842-518f-42f5-ab01-786e016324fb",
   "metadata": {
    "tags": []
   },
   "outputs": [
    {
     "data": {
      "text/html": [
       "[([([(col(\"isi_violations_ratio\")) <= (dyn float: 0.5)]) & ([(col(\"presence_ratio\")) >= (dyn float: 0.9)])]) & ([(col(\"amplitude_cutoff\")) <= (dyn float: 0.1)])]"
      ],
      "text/plain": [
       "<Expr ['[([([(col(\"isi_violations_rati…'] at 0x7EFC096DA080>"
      ]
     },
     "execution_count": 31,
     "metadata": {},
     "output_type": "execute_result"
    }
   ],
   "source": [
    "params.units_query"
   ]
  },
  {
   "cell_type": "code",
   "execution_count": 33,
   "id": "4c8232ef-c7d2-4a96-b8c6-0d94376278b2",
   "metadata": {
    "tags": []
   },
   "outputs": [
    {
     "data": {
      "text/html": [
       "<div><style>\n",
       ".dataframe > thead > tr,\n",
       ".dataframe > tbody > tr {\n",
       "  text-align: right;\n",
       "  white-space: pre-wrap;\n",
       "}\n",
       "</style>\n",
       "<small>shape: (4_096, 4)</small><table border=\"1\" class=\"dataframe\"><thead><tr><th>session_id</th><th>structure</th><th>electrode_group_name</th><th>n_units</th></tr><tr><td>str</td><td>str</td><td>str</td><td>u32</td></tr></thead><tbody><tr><td>&quot;703333_2024-04-10&quot;</td><td>&quot;out of brain&quot;</td><td>&quot;probeB&quot;</td><td>1</td></tr><tr><td>&quot;644864_2023-01-31&quot;</td><td>&quot;out of brain&quot;</td><td>&quot;probeA&quot;</td><td>1</td></tr><tr><td>&quot;699847_2024-04-16&quot;</td><td>&quot;out of brain&quot;</td><td>&quot;probeB&quot;</td><td>1</td></tr><tr><td>&quot;636397_2022-09-27&quot;</td><td>&quot;out of brain&quot;</td><td>&quot;probeF&quot;</td><td>1</td></tr><tr><td>&quot;626791_2022-08-16&quot;</td><td>&quot;out of brain&quot;</td><td>&quot;probeC&quot;</td><td>1</td></tr><tr><td>&hellip;</td><td>&hellip;</td><td>&hellip;</td><td>&hellip;</td></tr><tr><td>&quot;746439_2025-01-29&quot;</td><td>null</td><td>&quot;probeE&quot;</td><td>537</td></tr><tr><td>&quot;670180_2023-07-25&quot;</td><td>&quot;ProS&quot;</td><td>&quot;probeC&quot;</td><td>552</td></tr><tr><td>&quot;744740_2024-11-13&quot;</td><td>null</td><td>&quot;probeE&quot;</td><td>584</td></tr><tr><td>&quot;733780_2024-08-27&quot;</td><td>null</td><td>&quot;probeB&quot;</td><td>597</td></tr><tr><td>&quot;736208_2024-09-04&quot;</td><td>null</td><td>&quot;probeD&quot;</td><td>634</td></tr></tbody></table></div>"
      ],
      "text/plain": [
       "shape: (4_096, 4)\n",
       "┌───────────────────┬──────────────┬──────────────────────┬─────────┐\n",
       "│ session_id        ┆ structure    ┆ electrode_group_name ┆ n_units │\n",
       "│ ---               ┆ ---          ┆ ---                  ┆ ---     │\n",
       "│ str               ┆ str          ┆ str                  ┆ u32     │\n",
       "╞═══════════════════╪══════════════╪══════════════════════╪═════════╡\n",
       "│ 703333_2024-04-10 ┆ out of brain ┆ probeB               ┆ 1       │\n",
       "│ 644864_2023-01-31 ┆ out of brain ┆ probeA               ┆ 1       │\n",
       "│ 699847_2024-04-16 ┆ out of brain ┆ probeB               ┆ 1       │\n",
       "│ 636397_2022-09-27 ┆ out of brain ┆ probeF               ┆ 1       │\n",
       "│ 626791_2022-08-16 ┆ out of brain ┆ probeC               ┆ 1       │\n",
       "│ …                 ┆ …            ┆ …                    ┆ …       │\n",
       "│ 746439_2025-01-29 ┆ null         ┆ probeE               ┆ 537     │\n",
       "│ 670180_2023-07-25 ┆ ProS         ┆ probeC               ┆ 552     │\n",
       "│ 744740_2024-11-13 ┆ null         ┆ probeE               ┆ 584     │\n",
       "│ 733780_2024-08-27 ┆ null         ┆ probeB               ┆ 597     │\n",
       "│ 736208_2024-09-04 ┆ null         ┆ probeD               ┆ 634     │\n",
       "└───────────────────┴──────────────┴──────────────────────┴─────────┘"
      ]
     },
     "execution_count": 33,
     "metadata": {},
     "output_type": "execute_result"
    }
   ],
   "source": [
    "(\n",
    "    units\n",
    "    .pipe(group_structures, keep_originals=True)\n",
    "    .filter(\n",
    "        params.units_query,\n",
    "        pl.col('isi_violations_ratio').le(0.5),\n",
    "        pl.col('presence_ratio').ge(0.9),\n",
    "        pl.col('amplitude_cutoff').le\n",
    "    )\n",
    "    .filter(\n",
    "        pl.col('unit_id').n_unique().ge(params.n_units).over(params.units_group_by),\n",
    "    )\n",
    "    .group_by(*params.units_group_by)\n",
    "    .agg(\n",
    "        pl.col('unit_id').n_unique().alias('n_units'),\n",
    "    )\n",
    "    .sort('n_units')\n",
    ")\n"
   ]
  },
  {
   "cell_type": "code",
   "execution_count": 17,
   "id": "bb65228a-006d-4197-b298-3330db406805",
   "metadata": {
    "tags": []
   },
   "outputs": [
    {
     "data": {
      "text/html": [
       "<div><style>\n",
       ".dataframe > thead > tr,\n",
       ".dataframe > tbody > tr {\n",
       "  text-align: right;\n",
       "  white-space: pre-wrap;\n",
       "}\n",
       "</style>\n",
       "<small>shape: (4_096, 4)</small><table border=\"1\" class=\"dataframe\"><thead><tr><th>session_id</th><th>structure</th><th>electrode_group_name</th><th>n_units</th></tr><tr><td>str</td><td>str</td><td>str</td><td>u32</td></tr></thead><tbody><tr><td>&quot;626791_2022-08-16&quot;</td><td>&quot;out of brain&quot;</td><td>&quot;probeC&quot;</td><td>1</td></tr><tr><td>&quot;742903_2024-10-23&quot;</td><td>&quot;DG&quot;</td><td>&quot;probeE&quot;</td><td>1</td></tr><tr><td>&quot;733780_2024-08-26&quot;</td><td>&quot;TTd&quot;</td><td>&quot;probeF&quot;</td><td>1</td></tr><tr><td>&quot;699847_2024-04-16&quot;</td><td>&quot;out of brain&quot;</td><td>&quot;probeB&quot;</td><td>1</td></tr><tr><td>&quot;636766_2023-01-25&quot;</td><td>&quot;out of brain&quot;</td><td>&quot;probeE&quot;</td><td>1</td></tr><tr><td>&hellip;</td><td>&hellip;</td><td>&hellip;</td><td>&hellip;</td></tr><tr><td>&quot;746439_2025-01-29&quot;</td><td>null</td><td>&quot;probeE&quot;</td><td>537</td></tr><tr><td>&quot;670180_2023-07-25&quot;</td><td>&quot;ProS&quot;</td><td>&quot;probeC&quot;</td><td>552</td></tr><tr><td>&quot;744740_2024-11-13&quot;</td><td>null</td><td>&quot;probeE&quot;</td><td>584</td></tr><tr><td>&quot;733780_2024-08-27&quot;</td><td>null</td><td>&quot;probeB&quot;</td><td>597</td></tr><tr><td>&quot;736208_2024-09-04&quot;</td><td>null</td><td>&quot;probeD&quot;</td><td>634</td></tr></tbody></table></div>"
      ],
      "text/plain": [
       "shape: (4_096, 4)\n",
       "┌───────────────────┬──────────────┬──────────────────────┬─────────┐\n",
       "│ session_id        ┆ structure    ┆ electrode_group_name ┆ n_units │\n",
       "│ ---               ┆ ---          ┆ ---                  ┆ ---     │\n",
       "│ str               ┆ str          ┆ str                  ┆ u32     │\n",
       "╞═══════════════════╪══════════════╪══════════════════════╪═════════╡\n",
       "│ 626791_2022-08-16 ┆ out of brain ┆ probeC               ┆ 1       │\n",
       "│ 742903_2024-10-23 ┆ DG           ┆ probeE               ┆ 1       │\n",
       "│ 733780_2024-08-26 ┆ TTd          ┆ probeF               ┆ 1       │\n",
       "│ 699847_2024-04-16 ┆ out of brain ┆ probeB               ┆ 1       │\n",
       "│ 636766_2023-01-25 ┆ out of brain ┆ probeE               ┆ 1       │\n",
       "│ …                 ┆ …            ┆ …                    ┆ …       │\n",
       "│ 746439_2025-01-29 ┆ null         ┆ probeE               ┆ 537     │\n",
       "│ 670180_2023-07-25 ┆ ProS         ┆ probeC               ┆ 552     │\n",
       "│ 744740_2024-11-13 ┆ null         ┆ probeE               ┆ 584     │\n",
       "│ 733780_2024-08-27 ┆ null         ┆ probeB               ┆ 597     │\n",
       "│ 736208_2024-09-04 ┆ null         ┆ probeD               ┆ 634     │\n",
       "└───────────────────┴──────────────┴──────────────────────┴─────────┘"
      ]
     },
     "execution_count": 17,
     "metadata": {},
     "output_type": "execute_result"
    }
   ],
   "source": [
    "units.group_by(*params.units_group_by).agg(pl.col('unit_id').n_unique().alias('n_units')).sort('n_units')"
   ]
  }
 ],
 "metadata": {
  "kernelspec": {
   "display_name": "Python 3 (ipykernel)",
   "language": "python",
   "name": "python3"
  },
  "language_info": {
   "codemirror_mode": {
    "name": "ipython",
    "version": 3
   },
   "file_extension": ".py",
   "mimetype": "text/x-python",
   "name": "python",
   "nbconvert_exporter": "python",
   "pygments_lexer": "ipython3",
   "version": "3.10.12"
  }
 },
 "nbformat": 4,
 "nbformat_minor": 5
}
