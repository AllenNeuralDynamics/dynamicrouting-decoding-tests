{
 "cells": [
  {
   "cell_type": "code",
   "execution_count": 1,
   "id": "c053b6a6-236f-45c1-83a8-04be2292cd0d",
   "metadata": {
    "tags": []
   },
   "outputs": [],
   "source": [
    "from run_capsule import *\n",
    "from decoding_utils import *\n",
    "import sys\n",
    "sys.argv[1:] = ['--result_prefix', 'debug']\n",
    "params = Params()"
   ]
  },
  {
   "cell_type": "code",
   "execution_count": 12,
   "id": "a51c0da9-f431-43ae-9710-902622f7d96c",
   "metadata": {
    "tags": []
   },
   "outputs": [
    {
     "data": {
      "text/html": [
       "<div><style>\n",
       ".dataframe > thead > tr,\n",
       ".dataframe > tbody > tr {\n",
       "  text-align: right;\n",
       "  white-space: pre-wrap;\n",
       "}\n",
       "</style>\n",
       "<small>shape: (4_062, 4)</small><table border=\"1\" class=\"dataframe\"><thead><tr><th>session_id</th><th>structure</th><th>electrode_group_names</th><th>n_units</th></tr><tr><td>str</td><td>str</td><td>list[str]</td><td>u32</td></tr></thead><tbody><tr><td>&quot;664851_2023-11-14&quot;</td><td>&quot;SCig&quot;</td><td>[&quot;probeD&quot;]</td><td>25</td></tr><tr><td>&quot;703333_2024-04-11&quot;</td><td>&quot;FRP&quot;</td><td>[&quot;probeE&quot;]</td><td>25</td></tr><tr><td>&quot;713655_2024-08-07&quot;</td><td>&quot;TH&quot;</td><td>[&quot;probeA&quot;, &quot;probeC&quot;]</td><td>25</td></tr><tr><td>&quot;741148_2024-10-17&quot;</td><td>&quot;PRE&quot;</td><td>[&quot;probeD&quot;]</td><td>25</td></tr><tr><td>&quot;636397_2022-09-26&quot;</td><td>&quot;CA3&quot;</td><td>[&quot;probeC&quot;]</td><td>25</td></tr><tr><td>&hellip;</td><td>&hellip;</td><td>&hellip;</td><td>&hellip;</td></tr><tr><td>&quot;733780_2024-08-27&quot;</td><td>null</td><td>[&quot;probeD&quot;]</td><td>2837</td></tr><tr><td>&quot;733780_2024-08-27&quot;</td><td>null</td><td>[&quot;probeB&quot;]</td><td>2837</td></tr><tr><td>&quot;733780_2024-08-27&quot;</td><td>null</td><td>[&quot;probeC&quot;, &quot;probeB&quot;, … &quot;probeA&quot;]</td><td>2837</td></tr><tr><td>&quot;733780_2024-08-27&quot;</td><td>null</td><td>[&quot;probeE&quot;]</td><td>2837</td></tr><tr><td>&quot;733780_2024-08-27&quot;</td><td>null</td><td>[&quot;probeA&quot;]</td><td>2837</td></tr></tbody></table></div>"
      ],
      "text/plain": [
       "shape: (4_062, 4)\n",
       "┌───────────────────┬───────────┬─────────────────────────────────┬─────────┐\n",
       "│ session_id        ┆ structure ┆ electrode_group_names           ┆ n_units │\n",
       "│ ---               ┆ ---       ┆ ---                             ┆ ---     │\n",
       "│ str               ┆ str       ┆ list[str]                       ┆ u32     │\n",
       "╞═══════════════════╪═══════════╪═════════════════════════════════╪═════════╡\n",
       "│ 664851_2023-11-14 ┆ SCig      ┆ [\"probeD\"]                      ┆ 25      │\n",
       "│ 703333_2024-04-11 ┆ FRP       ┆ [\"probeE\"]                      ┆ 25      │\n",
       "│ 713655_2024-08-07 ┆ TH        ┆ [\"probeA\", \"probeC\"]            ┆ 25      │\n",
       "│ 741148_2024-10-17 ┆ PRE       ┆ [\"probeD\"]                      ┆ 25      │\n",
       "│ 636397_2022-09-26 ┆ CA3       ┆ [\"probeC\"]                      ┆ 25      │\n",
       "│ …                 ┆ …         ┆ …                               ┆ …       │\n",
       "│ 733780_2024-08-27 ┆ null      ┆ [\"probeD\"]                      ┆ 2837    │\n",
       "│ 733780_2024-08-27 ┆ null      ┆ [\"probeB\"]                      ┆ 2837    │\n",
       "│ 733780_2024-08-27 ┆ null      ┆ [\"probeC\", \"probeB\", … \"probeA… ┆ 2837    │\n",
       "│ 733780_2024-08-27 ┆ null      ┆ [\"probeE\"]                      ┆ 2837    │\n",
       "│ 733780_2024-08-27 ┆ null      ┆ [\"probeA\"]                      ┆ 2837    │\n",
       "└───────────────────┴───────────┴─────────────────────────────────┴─────────┘"
      ]
     },
     "execution_count": 12,
     "metadata": {},
     "output_type": "execute_result"
    }
   ],
   "source": [
    "(\n",
    "        utils.get_df('units', lazy=True)\n",
    "    # .filter(pl.col('session_id') == \"733891_2024-09-16\")\n",
    "        .filter(\n",
    "            # pl.col('session_id').is_in(session_ids),\n",
    "            params.units_query,\n",
    "        )\n",
    "        .pipe(group_structures, keep_originals=True)\n",
    "        .pipe(repeat_multi_probe_areas)\n",
    "        .filter(\n",
    "            pl.col('unit_id').n_unique().ge(params.n_units).over(params.units_group_by)\n",
    "        )\n",
    "        .select(*params.units_group_by, 'unit_id')\n",
    "    .group_by('session_id', 'structure', 'electrode_group_names')\n",
    "    .agg(pl.col('unit_id').len().alias('n_units'))\n",
    "        # .unique(params.units_group_by)\n",
    "    # .sort('structure', 'electrode_group_names')\n",
    "    .sort('n_units')\n",
    ").collect()"
   ]
  },
  {
   "cell_type": "code",
   "execution_count": 5,
   "id": "363fce73-1bf6-4e34-ba44-56b02ce73a62",
   "metadata": {
    "tags": []
   },
   "outputs": [
    {
     "data": {
      "text/html": [
       "<div><style>\n",
       ".dataframe > thead > tr,\n",
       ".dataframe > tbody > tr {\n",
       "  text-align: right;\n",
       "  white-space: pre-wrap;\n",
       "}\n",
       "</style>\n",
       "<small>shape: (2_391, 3)</small><table border=\"1\" class=\"dataframe\"><thead><tr><th>session_id</th><th>structure</th><th>electrode_group_names</th></tr><tr><td>str</td><td>str</td><td>list[str]</td></tr></thead><tbody><tr><td>&quot;686176_2023-12-07&quot;</td><td>&quot;DG&quot;</td><td>[&quot;probeD&quot;, &quot;probeD&quot;, … &quot;probeD&quot;]</td></tr><tr><td>&quot;660023_2023-08-09&quot;</td><td>&quot;SCs&quot;</td><td>[&quot;probeC&quot;, &quot;probeC&quot;, … &quot;probeC&quot;]</td></tr><tr><td>&quot;726088_2024-06-20&quot;</td><td>&quot;NOT&quot;</td><td>[&quot;probeB&quot;, &quot;probeB&quot;, … &quot;probeB&quot;]</td></tr><tr><td>&quot;713655_2024-08-07&quot;</td><td>&quot;TH&quot;</td><td>[&quot;probeC&quot;, &quot;probeA&quot;, … &quot;probeC&quot;]</td></tr><tr><td>&quot;708016_2024-04-29&quot;</td><td>&quot;DG&quot;</td><td>[&quot;probeE&quot;, &quot;probeE&quot;, … &quot;probeD&quot;]</td></tr><tr><td>&hellip;</td><td>&hellip;</td><td>&hellip;</td></tr><tr><td>&quot;670248_2023-08-02&quot;</td><td>null</td><td>[&quot;probeA&quot;, &quot;probeA&quot;, … &quot;probeF&quot;]</td></tr><tr><td>&quot;644864_2023-02-01&quot;</td><td>null</td><td>[&quot;probeA&quot;, &quot;probeA&quot;, … &quot;probeF&quot;]</td></tr><tr><td>&quot;744740_2024-11-13&quot;</td><td>null</td><td>[&quot;probeA&quot;, &quot;probeA&quot;, … &quot;probeE&quot;]</td></tr><tr><td>&quot;736208_2024-09-04&quot;</td><td>null</td><td>[&quot;probeA&quot;, &quot;probeA&quot;, … &quot;probeE&quot;]</td></tr><tr><td>&quot;733780_2024-08-27&quot;</td><td>null</td><td>[&quot;probeA&quot;, &quot;probeA&quot;, … &quot;probeF&quot;]</td></tr></tbody></table></div>"
      ],
      "text/plain": [
       "shape: (2_391, 3)\n",
       "┌───────────────────┬───────────┬─────────────────────────────────┐\n",
       "│ session_id        ┆ structure ┆ electrode_group_names           │\n",
       "│ ---               ┆ ---       ┆ ---                             │\n",
       "│ str               ┆ str       ┆ list[str]                       │\n",
       "╞═══════════════════╪═══════════╪═════════════════════════════════╡\n",
       "│ 686176_2023-12-07 ┆ DG        ┆ [\"probeD\", \"probeD\", … \"probeD… │\n",
       "│ 660023_2023-08-09 ┆ SCs       ┆ [\"probeC\", \"probeC\", … \"probeC… │\n",
       "│ 726088_2024-06-20 ┆ NOT       ┆ [\"probeB\", \"probeB\", … \"probeB… │\n",
       "│ 713655_2024-08-07 ┆ TH        ┆ [\"probeC\", \"probeA\", … \"probeC… │\n",
       "│ 708016_2024-04-29 ┆ DG        ┆ [\"probeE\", \"probeE\", … \"probeD… │\n",
       "│ …                 ┆ …         ┆ …                               │\n",
       "│ 670248_2023-08-02 ┆ null      ┆ [\"probeA\", \"probeA\", … \"probeF… │\n",
       "│ 644864_2023-02-01 ┆ null      ┆ [\"probeA\", \"probeA\", … \"probeF… │\n",
       "│ 744740_2024-11-13 ┆ null      ┆ [\"probeA\", \"probeA\", … \"probeE… │\n",
       "│ 736208_2024-09-04 ┆ null      ┆ [\"probeA\", \"probeA\", … \"probeE… │\n",
       "│ 733780_2024-08-27 ┆ null      ┆ [\"probeA\", \"probeA\", … \"probeF… │\n",
       "└───────────────────┴───────────┴─────────────────────────────────┘"
      ]
     },
     "execution_count": 5,
     "metadata": {},
     "output_type": "execute_result"
    }
   ],
   "source": [
    "df.sort(pl.col('electrode_group_names').list.len())"
   ]
  },
  {
   "cell_type": "code",
   "execution_count": 24,
   "id": "a8572539-4805-4eac-a39f-134e24403c03",
   "metadata": {
    "tags": []
   },
   "outputs": [
    {
     "data": {
      "text/html": [
       "<div><style>\n",
       ".dataframe > thead > tr,\n",
       ".dataframe > tbody > tr {\n",
       "  text-align: right;\n",
       "  white-space: pre-wrap;\n",
       "}\n",
       "</style>\n",
       "<small>shape: (2_391, 3)</small><table border=\"1\" class=\"dataframe\"><thead><tr><th>session_id</th><th>structure</th><th>electrode_group_names</th></tr><tr><td>str</td><td>str</td><td>list[str]</td></tr></thead><tbody><tr><td>&quot;708016_2024-04-29&quot;</td><td>&quot;DG&quot;</td><td>[&quot;probeE&quot;, &quot;probeE&quot;, … &quot;probeD&quot;]</td></tr><tr><td>&quot;660023_2023-08-09&quot;</td><td>&quot;SCs&quot;</td><td>[&quot;probeC&quot;, &quot;probeC&quot;, … &quot;probeC&quot;]</td></tr><tr><td>&quot;713655_2024-08-07&quot;</td><td>&quot;TH&quot;</td><td>[&quot;probeC&quot;, &quot;probeA&quot;, … &quot;probeC&quot;]</td></tr><tr><td>&quot;726088_2024-06-20&quot;</td><td>&quot;NOT&quot;</td><td>[&quot;probeB&quot;, &quot;probeB&quot;, … &quot;probeB&quot;]</td></tr><tr><td>&quot;686176_2023-12-07&quot;</td><td>&quot;DG&quot;</td><td>[&quot;probeD&quot;, &quot;probeD&quot;, … &quot;probeD&quot;]</td></tr><tr><td>&hellip;</td><td>&hellip;</td><td>&hellip;</td></tr><tr><td>&quot;670248_2023-08-02&quot;</td><td>null</td><td>[&quot;probeA&quot;, &quot;probeA&quot;, … &quot;probeF&quot;]</td></tr><tr><td>&quot;644864_2023-02-01&quot;</td><td>null</td><td>[&quot;probeA&quot;, &quot;probeA&quot;, … &quot;probeF&quot;]</td></tr><tr><td>&quot;744740_2024-11-13&quot;</td><td>null</td><td>[&quot;probeA&quot;, &quot;probeA&quot;, … &quot;probeE&quot;]</td></tr><tr><td>&quot;736208_2024-09-04&quot;</td><td>null</td><td>[&quot;probeA&quot;, &quot;probeA&quot;, … &quot;probeE&quot;]</td></tr><tr><td>&quot;733780_2024-08-27&quot;</td><td>null</td><td>[&quot;probeA&quot;, &quot;probeA&quot;, … &quot;probeF&quot;]</td></tr></tbody></table></div>"
      ],
      "text/plain": [
       "shape: (2_391, 3)\n",
       "┌───────────────────┬───────────┬─────────────────────────────────┐\n",
       "│ session_id        ┆ structure ┆ electrode_group_names           │\n",
       "│ ---               ┆ ---       ┆ ---                             │\n",
       "│ str               ┆ str       ┆ list[str]                       │\n",
       "╞═══════════════════╪═══════════╪═════════════════════════════════╡\n",
       "│ 708016_2024-04-29 ┆ DG        ┆ [\"probeE\", \"probeE\", … \"probeD… │\n",
       "│ 660023_2023-08-09 ┆ SCs       ┆ [\"probeC\", \"probeC\", … \"probeC… │\n",
       "│ 713655_2024-08-07 ┆ TH        ┆ [\"probeC\", \"probeA\", … \"probeC… │\n",
       "│ 726088_2024-06-20 ┆ NOT       ┆ [\"probeB\", \"probeB\", … \"probeB… │\n",
       "│ 686176_2023-12-07 ┆ DG        ┆ [\"probeD\", \"probeD\", … \"probeD… │\n",
       "│ …                 ┆ …         ┆ …                               │\n",
       "│ 670248_2023-08-02 ┆ null      ┆ [\"probeA\", \"probeA\", … \"probeF… │\n",
       "│ 644864_2023-02-01 ┆ null      ┆ [\"probeA\", \"probeA\", … \"probeF… │\n",
       "│ 744740_2024-11-13 ┆ null      ┆ [\"probeA\", \"probeA\", … \"probeE… │\n",
       "│ 736208_2024-09-04 ┆ null      ┆ [\"probeA\", \"probeA\", … \"probeE… │\n",
       "│ 733780_2024-08-27 ┆ null      ┆ [\"probeA\", \"probeA\", … \"probeF… │\n",
       "└───────────────────┴───────────┴─────────────────────────────────┘"
      ]
     },
     "execution_count": 24,
     "metadata": {},
     "output_type": "execute_result"
    }
   ],
   "source": [
    "(\n",
    "    utils.get_df('units', lazy=True)\n",
    "         # .filter(pl.col('session_id') == \"668759_2023-07-13\")\n",
    "    .filter(\n",
    "        # pl.col('session_id').is_in(session_ids),\n",
    "        params.units_query,\n",
    "    )\n",
    "    .pipe(group_structures, keep_originals=True)\n",
    "    .pipe(repeat_multi_probe_areas)\n",
    "    .select('session_id', 'structure', 'electrode_group_names', 'unit_id')\n",
    "    .filter(\n",
    "        pl.col('unit_id').n_unique().ge(params.n_units).over(params.units_group_by)\n",
    "    )\n",
    "    .select(params.units_group_by)\n",
    "    .unique(params.units_group_by)\n",
    "    .sort(pl.col('electrode_group_names').list.len())\n",
    "    .collect()\n",
    ")"
   ]
  },
  {
   "cell_type": "code",
   "execution_count": 75,
   "id": "a627671f-1622-4cee-925e-c25bf2dec371",
   "metadata": {
    "tags": []
   },
   "outputs": [
    {
     "data": {
      "text/html": [
       "<div><style>\n",
       ".dataframe > thead > tr,\n",
       ".dataframe > tbody > tr {\n",
       "  text-align: right;\n",
       "  white-space: pre-wrap;\n",
       "}\n",
       "</style>\n",
       "<small>shape: (7_386, 3)</small><table border=\"1\" class=\"dataframe\"><thead><tr><th>structure</th><th>electrode_group_names</th><th>unit_id</th></tr><tr><td>str</td><td>list[str]</td><td>str</td></tr></thead><tbody><tr><td>&quot;RT&quot;</td><td>[&quot;probeB&quot;]</td><td>&quot;668759_2023-07-13_B-0&quot;</td></tr><tr><td>&quot;RT&quot;</td><td>[&quot;probeB&quot;]</td><td>&quot;668759_2023-07-13_B-1&quot;</td></tr><tr><td>&quot;VAL&quot;</td><td>[&quot;probeB&quot;]</td><td>&quot;668759_2023-07-13_B-10&quot;</td></tr><tr><td>&quot;VAL&quot;</td><td>[&quot;probeB&quot;]</td><td>&quot;668759_2023-07-13_B-100&quot;</td></tr><tr><td>&quot;VPM&quot;</td><td>[&quot;probeB&quot;]</td><td>&quot;668759_2023-07-13_B-101&quot;</td></tr><tr><td>&hellip;</td><td>&hellip;</td><td>&hellip;</td></tr><tr><td>&quot;MOs&quot;</td><td>[&quot;probeD&quot;, &quot;probeE&quot;, &quot;probeF&quot;]</td><td>&quot;668759_2023-07-13_F-98&quot;</td></tr><tr><td>&quot;MOs&quot;</td><td>[&quot;probeD&quot;]</td><td>&quot;668759_2023-07-13_F-99&quot;</td></tr><tr><td>&quot;MOs&quot;</td><td>[&quot;probeE&quot;]</td><td>&quot;668759_2023-07-13_F-99&quot;</td></tr><tr><td>&quot;MOs&quot;</td><td>[&quot;probeF&quot;]</td><td>&quot;668759_2023-07-13_F-99&quot;</td></tr><tr><td>&quot;MOs&quot;</td><td>[&quot;probeD&quot;, &quot;probeE&quot;, &quot;probeF&quot;]</td><td>&quot;668759_2023-07-13_F-99&quot;</td></tr></tbody></table></div>"
      ],
      "text/plain": [
       "shape: (7_386, 3)\n",
       "┌───────────┬────────────────────────────────┬─────────────────────────┐\n",
       "│ structure ┆ electrode_group_names          ┆ unit_id                 │\n",
       "│ ---       ┆ ---                            ┆ ---                     │\n",
       "│ str       ┆ list[str]                      ┆ str                     │\n",
       "╞═══════════╪════════════════════════════════╪═════════════════════════╡\n",
       "│ RT        ┆ [\"probeB\"]                     ┆ 668759_2023-07-13_B-0   │\n",
       "│ RT        ┆ [\"probeB\"]                     ┆ 668759_2023-07-13_B-1   │\n",
       "│ VAL       ┆ [\"probeB\"]                     ┆ 668759_2023-07-13_B-10  │\n",
       "│ VAL       ┆ [\"probeB\"]                     ┆ 668759_2023-07-13_B-100 │\n",
       "│ VPM       ┆ [\"probeB\"]                     ┆ 668759_2023-07-13_B-101 │\n",
       "│ …         ┆ …                              ┆ …                       │\n",
       "│ MOs       ┆ [\"probeD\", \"probeE\", \"probeF\"] ┆ 668759_2023-07-13_F-98  │\n",
       "│ MOs       ┆ [\"probeD\"]                     ┆ 668759_2023-07-13_F-99  │\n",
       "│ MOs       ┆ [\"probeE\"]                     ┆ 668759_2023-07-13_F-99  │\n",
       "│ MOs       ┆ [\"probeF\"]                     ┆ 668759_2023-07-13_F-99  │\n",
       "│ MOs       ┆ [\"probeD\", \"probeE\", \"probeF\"] ┆ 668759_2023-07-13_F-99  │\n",
       "└───────────┴────────────────────────────────┴─────────────────────────┘"
      ]
     },
     "execution_count": 75,
     "metadata": {},
     "output_type": "execute_result"
    }
   ],
   "source": [
    " (\n",
    "        utils.get_df('units', lazy=True)\n",
    "     .filter(pl.col('session_id') == \"668759_2023-07-13\")\n",
    " \n",
    "        # create list of probe names per session-structure:\n",
    "        .group_by('session_id', 'structure')\n",
    "        .agg(\n",
    "            pl.all().exclude('electrode_group_name'),\n",
    "            pl.col('electrode_group_name').unique().alias('electrode_group_names'),\n",
    "        )\n",
    "        # duplicate those with multiple probes (col becomes List[List[String]]):\n",
    "        .with_columns(\n",
    "            pl.when(pl.col('electrode_group_names').list.n_unique().gt(1))\n",
    "            .then(pl.col('electrode_group_names').repeat_by(2))\n",
    "            .otherwise(pl.col('electrode_group_names').repeat_by(1))\n",
    "        )\n",
    "        # # .explode(pl.all().exclude('session_id', 'structure', 'electrode_group_names'))\n",
    "        .explode('electrode_group_names')\n",
    "\n",
    "        # convert the duplicated rows to joined 'probeA_probeB' format:\n",
    "        .with_columns(\n",
    "            pl.when(pl.col('electrode_group_names').is_first_distinct().over('session_id', 'structure'))\n",
    "            .then(pl.col('electrode_group_names'))\n",
    "            .otherwise(pl.col('electrode_group_names').list.join('_').cast(pl.List(pl.String)))\n",
    "        )\n",
    "        # create individual lists vs single list for duplicate/non-duplicate rows:\n",
    "        # [probeA, probeB] vs [[probeA], [probeB]]\n",
    "        .with_columns(\n",
    "            pl.col('electrode_group_names').list.eval(pl.element().str.split('_'))\n",
    "        )\n",
    "         .explode(pl.all().exclude('session_id', 'structure', 'electrode_group_names'))\n",
    "        .explode('electrode_group_names')\n",
    "    \n",
    "         .select('structure', 'electrode_group_names', 'unit_id')\n",
    "         .sort('unit_id')\n",
    "\n",
    ").collect()\n"
   ]
  },
  {
   "cell_type": "code",
   "execution_count": null,
   "id": "a768ec74-5bb8-4434-a9a7-6fa347eb2fd2",
   "metadata": {
    "tags": []
   },
   "outputs": [],
   "source": [
    " (\n",
    "        utils.get_df('units', lazy=True)\n",
    "        # create list of probe names per session-structure:\n",
    "        .group_by('session_id', 'structure')\n",
    "        .agg(\n",
    "            pl.all().exclude('electrode_group_name'),\n",
    "            pl.col('electrode_group_name').alias('electrode_group_names'),\n",
    "        )\n",
    "        # duplicate those with multiple probes (col becomes List[List[String]]):\n",
    "        .with_columns(\n",
    "            pl.when(pl.col('electrode_group_names').list.n_unique().gt(1))\n",
    "            .then(pl.col('electrode_group_names').repeat_by(2))\n",
    "            .otherwise(pl.col('electrode_group_names').repeat_by(1))\n",
    "        )\n",
    "        .explode(pl.all().exclude('session_id', 'structure', 'electrode_group_names'))\n",
    "        .explode('electrode_group_names')\n",
    "        # convert the duplicated rows to joined 'probeA_probeB' format:\n",
    "        .with_columns(\n",
    "            pl.when(pl.col('electrode_group_names').is_first_distinct().over('session_id', 'structure'))\n",
    "            .then(pl.col('electrode_group_names'))\n",
    "            .otherwise(pl.col('electrode_group_names').list.join('_').cast(pl.List(pl.String)))\n",
    "        )\n",
    "        # create individual lists vs single list for duplicate/non-duplicate rows:\n",
    "        # [probeA, probeB] vs [[probeA], [probeB]]\n",
    "        .with_columns(\n",
    "            pl.col('electrode_group_names').list.eval(pl.element().str.split('_'))\n",
    "        )\n",
    "        .explode('electrode_group_names')\n",
    "    ).collect()"
   ]
  },
  {
   "cell_type": "code",
   "execution_count": 14,
   "id": "6e1066fd-7172-4958-9c88-d799cebbcc8d",
   "metadata": {
    "tags": []
   },
   "outputs": [
    {
     "data": {
      "text/html": [
       "<div><style>\n",
       ".dataframe > thead > tr,\n",
       ".dataframe > tbody > tr {\n",
       "  text-align: right;\n",
       "  white-space: pre-wrap;\n",
       "}\n",
       "</style>\n",
       "<small>shape: (295_759, 3)</small><table border=\"1\" class=\"dataframe\"><thead><tr><th>session_id</th><th>structure</th><th>electrode_group_names</th></tr><tr><td>str</td><td>str</td><td>list[str]</td></tr></thead><tbody><tr><td>&quot;681532_2023-10-16&quot;</td><td>&quot;VISp&quot;</td><td>[&quot;probeB&quot;]</td></tr><tr><td>&quot;681532_2023-10-16&quot;</td><td>&quot;VISp&quot;</td><td>[&quot;probeB&quot;]</td></tr><tr><td>&quot;681532_2023-10-16&quot;</td><td>&quot;VISp&quot;</td><td>[&quot;probeB&quot;]</td></tr><tr><td>&quot;681532_2023-10-16&quot;</td><td>&quot;VISp&quot;</td><td>[&quot;probeB&quot;]</td></tr><tr><td>&quot;681532_2023-10-16&quot;</td><td>&quot;VISp&quot;</td><td>[&quot;probeB&quot;]</td></tr><tr><td>&hellip;</td><td>&hellip;</td><td>&hellip;</td></tr><tr><td>&quot;733891_2024-09-16&quot;</td><td>&quot;DG&quot;</td><td>[&quot;probeC&quot;]</td></tr><tr><td>&quot;733891_2024-09-16&quot;</td><td>&quot;DG&quot;</td><td>[&quot;probeC&quot;]</td></tr><tr><td>&quot;733891_2024-09-16&quot;</td><td>&quot;DG&quot;</td><td>[&quot;probeC&quot;]</td></tr><tr><td>&quot;666986_2023-08-15&quot;</td><td>&quot;SCop&quot;</td><td>[&quot;probeD&quot;]</td></tr><tr><td>&quot;666986_2023-08-15&quot;</td><td>&quot;SCop&quot;</td><td>[&quot;probeD&quot;]</td></tr></tbody></table></div>"
      ],
      "text/plain": [
       "shape: (295_759, 3)\n",
       "┌───────────────────┬───────────┬───────────────────────┐\n",
       "│ session_id        ┆ structure ┆ electrode_group_names │\n",
       "│ ---               ┆ ---       ┆ ---                   │\n",
       "│ str               ┆ str       ┆ list[str]             │\n",
       "╞═══════════════════╪═══════════╪═══════════════════════╡\n",
       "│ 681532_2023-10-16 ┆ VISp      ┆ [\"probeB\"]            │\n",
       "│ 681532_2023-10-16 ┆ VISp      ┆ [\"probeB\"]            │\n",
       "│ 681532_2023-10-16 ┆ VISp      ┆ [\"probeB\"]            │\n",
       "│ 681532_2023-10-16 ┆ VISp      ┆ [\"probeB\"]            │\n",
       "│ 681532_2023-10-16 ┆ VISp      ┆ [\"probeB\"]            │\n",
       "│ …                 ┆ …         ┆ …                     │\n",
       "│ 733891_2024-09-16 ┆ DG        ┆ [\"probeC\"]            │\n",
       "│ 733891_2024-09-16 ┆ DG        ┆ [\"probeC\"]            │\n",
       "│ 733891_2024-09-16 ┆ DG        ┆ [\"probeC\"]            │\n",
       "│ 666986_2023-08-15 ┆ SCop      ┆ [\"probeD\"]            │\n",
       "│ 666986_2023-08-15 ┆ SCop      ┆ [\"probeD\"]            │\n",
       "└───────────────────┴───────────┴───────────────────────┘"
      ]
     },
     "execution_count": 14,
     "metadata": {},
     "output_type": "execute_result"
    }
   ],
   "source": [
    "(\n",
    "        df\n",
    "        # create list of probe names per session-structure:\n",
    "        .group_by('session_id', 'structure')\n",
    "        .agg(\n",
    "            pl.all().exclude('electrode_group_name'),\n",
    "            pl.col('electrode_group_name').alias('electrode_group_names'),\n",
    "        )\n",
    "        # duplicate those with multiple probes (col becomes List[List[String]]):\n",
    "        .with_columns(\n",
    "            pl.when(pl.col('electrode_group_names').list.n_unique().gt(1))\n",
    "            .then(pl.col('electrode_group_names').repeat_by(2))\n",
    "            .otherwise(pl.col('electrode_group_names').repeat_by(1))\n",
    "        )\n",
    "        .explode('electrode_group_names')\n",
    "        # convert the duplicated rows to joined 'probeA_probeB' format:\n",
    "        .with_columns(\n",
    "            pl.when(pl.col('electrode_group_names').is_first_distinct().over('session_id', 'structure'))\n",
    "            .then(pl.col('electrode_group_names'))\n",
    "            .otherwise(pl.col('electrode_group_names').list.join('_').cast(pl.List(pl.String)))\n",
    "        )\n",
    "        # create individual lists vs single list for duplicate/non-duplicate rows:\n",
    "        # [probeA, probeB] vs [[probeA], [probeB]]\n",
    "        .with_columns(\n",
    "            pl.col('electrode_group_names').list.eval(pl.element().str.split('_'))\n",
    "        )\n",
    "        .explode('electrode_group_names')\n",
    "    )"
   ]
  },
  {
   "cell_type": "code",
   "execution_count": 4,
   "id": "b81f2a5f-af38-41d3-8404-943844fd0998",
   "metadata": {
    "tags": []
   },
   "outputs": [
    {
     "data": {
      "text/plain": [
       "'{\"result_prefix\":\"debug\",\"run_id\":\"20250327_165658\",\"session_table_query\":\"is_ephys & is_task & is_annotated & is_production & issues==\\'[]\\'\",\"unit_criteria\":\"medium\",\"n_repeats\":25,\"input_data_type\":\"spikes\",\"vid_angle_facemotion\":\"face\",\"vid_angle_LP\":\"behavior\",\"central_section\":\"4_blocks_plus\",\"exclude_cue_trials\":false,\"n_unit_threshold\":5,\"keep_n_SVDs\":500,\"LP_parts_to_keep\":[\"ear_base_l\",\"eye_bottom_l\",\"jaw\",\"nose_tip\",\"whisker_pad_l_side\"],\"spikes_binsize\":0.2,\"spikes_time_before\":0.2,\"spikes_time_after\":0.01,\"use_structure_probe\":true,\"crossval\":\"5_fold\",\"labels_as_index\":true,\"decoder_type\":\"LogisticRegression\",\"only_use_all_units\":false,\"predict\":\"context\",\"regularization\":null,\"penalty\":null,\"solver\":null,\"select_single_area\":null,\"split_area_by_probe\":true,\"n_jobs\":null,\"use_process_pool\":true,\"max_workers\":null,\"units_group_by\":[\"{\\\\\"Column\\\\\":\\\\\"session_id\\\\\"}\",\"{\\\\\"Column\\\\\":\\\\\"structure\\\\\"}\",\"{\\\\\"Column\\\\\":\\\\\"electrode_group_name\\\\\"}\"],\"units_query\":\"{\\\\\"BinaryExpr\\\\\":{\\\\\"left\\\\\":{\\\\\"BinaryExpr\\\\\":{\\\\\"left\\\\\":{\\\\\"BinaryExpr\\\\\":{\\\\\"left\\\\\":{\\\\\"Column\\\\\":\\\\\"isi_violations_ratio\\\\\"},\\\\\"op\\\\\":\\\\\"LtEq\\\\\",\\\\\"right\\\\\":{\\\\\"Literal\\\\\":{\\\\\"Dyn\\\\\":{\\\\\"Float\\\\\":0.5}}}}},\\\\\"op\\\\\":\\\\\"And\\\\\",\\\\\"right\\\\\":{\\\\\"BinaryExpr\\\\\":{\\\\\"left\\\\\":{\\\\\"Column\\\\\":\\\\\"presence_ratio\\\\\"},\\\\\"op\\\\\":\\\\\"GtEq\\\\\",\\\\\"right\\\\\":{\\\\\"Literal\\\\\":{\\\\\"Dyn\\\\\":{\\\\\"Float\\\\\":0.9}}}}}}},\\\\\"op\\\\\":\\\\\"And\\\\\",\\\\\"right\\\\\":{\\\\\"BinaryExpr\\\\\":{\\\\\"left\\\\\":{\\\\\"Column\\\\\":\\\\\"amplitude_cutoff\\\\\"},\\\\\"op\\\\\":\\\\\"LtEq\\\\\",\\\\\"right\\\\\":{\\\\\"Literal\\\\\":{\\\\\"Dyn\\\\\":{\\\\\"Float\\\\\":0.1}}}}}}}\"}'"
      ]
     },
     "execution_count": 4,
     "metadata": {},
     "output_type": "execute_result"
    }
   ],
   "source": [
    "Params(\n",
    "    result_prefix='debug', session_id='703333_2024-04-10', run_id='20250327_165658', override_params_json='{}', skip_existing=True,\n",
    ").model_dump_json()"
   ]
  },
  {
   "cell_type": "code",
   "execution_count": 10,
   "id": "697b16bd-c2e7-40ce-b1a5-45d56e961de1",
   "metadata": {
    "tags": []
   },
   "outputs": [
    {
     "name": "stderr",
     "output_type": "stream",
     "text": [
      "/tmp/ipykernel_162/3797388423.py:2: DeprecationWarning: `Expr.from_json` is deprecated. It has been renamed to `Expr.deserialize`. Note that the new method operates on file-like inputs rather than strings. Enclose your input in `io.StringIO` to keep the same behavior.\n",
      "  pl.Expr.from_json(json.loads(params.model_dump_json())['units_query'])\n"
     ]
    },
    {
     "data": {
      "text/html": [
       "[([([(col(\"isi_violations_ratio\")) <= (dyn float: 0.5)]) & ([(col(\"presence_ratio\")) >= (dyn float: 0.9)])]) & ([(col(\"amplitude_cutoff\")) <= (dyn float: 0.1)])]"
      ],
      "text/plain": [
       "<Expr ['[([([(col(\"isi_violations_rati…'] at 0x7F8B47CCEF20>"
      ]
     },
     "execution_count": 10,
     "metadata": {},
     "output_type": "execute_result"
    }
   ],
   "source": [
    "import json\n",
    "pl.Expr.deserialize(io.StringI(json.loads(params.model_dump_json())['units_query'])"
   ]
  },
  {
   "cell_type": "code",
   "execution_count": 30,
   "id": "88e4d95e-0654-4b7b-84ea-de83c0f9dbad",
   "metadata": {
    "tags": []
   },
   "outputs": [
    {
     "data": {
      "text/plain": [
       "Params(result_prefix='debug', session_id='703333_2024-04-10', run_id='20250327_165658', skip_existing=False, test=False, logging_level='INFO', update_packages_from_source=False, override_params_json='{}', session_table_query=\"is_ephys & is_task & is_annotated & is_production & issues=='[]'\", unit_criteria='medium', n_units=20, n_repeats=25, input_data_type='spikes', vid_angle_facemotion='face', vid_angle_LP='behavior', central_section='4_blocks_plus', exclude_cue_trials=False, n_unit_threshold=5, keep_n_SVDs=500, LP_parts_to_keep=['ear_base_l', 'eye_bottom_l', 'jaw', 'nose_tip', 'whisker_pad_l_side'], spikes_binsize=0.2, spikes_time_before=0.2, spikes_time_after=0.01, use_structure_probe=True, crossval='5_fold', labels_as_index=True, decoder_type='LogisticRegression', only_use_all_units=False, predict='context', regularization=None, penalty=None, solver=None, select_single_area=None, split_area_by_probe=True, n_jobs=None, use_process_pool=True, max_workers=None)"
      ]
     },
     "execution_count": 30,
     "metadata": {},
     "output_type": "execute_result"
    }
   ],
   "source": [
    "current = Params.model_validate_json(\n",
    "    upath.UPath('s3://aind-scratch-data/dynamic-routing/ben/decoding/debug_20250327_165658/params.json').read_text()\n",
    ")\n",
    "current"
   ]
  },
  {
   "cell_type": "code",
   "execution_count": 38,
   "id": "bec1ff76-8fee-48d5-aed7-f69c4cf51e4b",
   "metadata": {
    "tags": []
   },
   "outputs": [
    {
     "data": {
      "text/plain": [
       "False"
      ]
     },
     "execution_count": 38,
     "metadata": {},
     "output_type": "execute_result"
    }
   ],
   "source": [
    "new = Params(\n",
    "    result_prefix='debug', session_id='703333_2024-04-10', run_id='20250327_165658', override_params_json='{}', skip_existing=True,\n",
    ")\n",
    "new.model_dump() == current.model_dump()"
   ]
  },
  {
   "cell_type": "code",
   "execution_count": 4,
   "id": "0510746d-482f-45f0-b0ff-d74aeb0a1553",
   "metadata": {
    "tags": []
   },
   "outputs": [],
   "source": [
    "delta = pl.scan_delta(\n",
    "    's3://aind-scratch-data/dynamic-routing/ben/decoding/debug_20250327_165658'\n",
    ")"
   ]
  },
  {
   "cell_type": "code",
   "execution_count": 19,
   "id": "5689b562-f8de-44ec-9d0d-bebd2452bedf",
   "metadata": {
    "tags": []
   },
   "outputs": [
    {
     "data": {
      "text/html": [
       "<div><style>\n",
       ".dataframe > thead > tr,\n",
       ".dataframe > tbody > tr {\n",
       "  text-align: right;\n",
       "  white-space: pre-wrap;\n",
       "}\n",
       "</style>\n",
       "<small>shape: (145, 2)</small><table border=\"1\" class=\"dataframe\"><thead><tr><th>session_id</th><th>n_structures</th></tr><tr><td>str</td><td>u32</td></tr></thead><tbody><tr><td>&quot;662892_2023-08-21&quot;</td><td>1</td></tr><tr><td>&quot;702136_2024-03-04&quot;</td><td>1</td></tr><tr><td>&quot;668755_2023-08-31&quot;</td><td>1</td></tr><tr><td>&quot;702136_2024-03-06&quot;</td><td>1</td></tr><tr><td>&quot;712815_2024-05-22&quot;</td><td>1</td></tr><tr><td>&hellip;</td><td>&hellip;</td></tr><tr><td>&quot;703880_2024-04-18&quot;</td><td>7</td></tr><tr><td>&quot;733891_2024-09-18&quot;</td><td>7</td></tr><tr><td>&quot;712815_2024-05-21&quot;</td><td>7</td></tr><tr><td>&quot;733891_2024-09-19&quot;</td><td>8</td></tr><tr><td>&quot;733780_2024-09-04&quot;</td><td>8</td></tr></tbody></table></div>"
      ],
      "text/plain": [
       "shape: (145, 2)\n",
       "┌───────────────────┬──────────────┐\n",
       "│ session_id        ┆ n_structures │\n",
       "│ ---               ┆ ---          │\n",
       "│ str               ┆ u32          │\n",
       "╞═══════════════════╪══════════════╡\n",
       "│ 662892_2023-08-21 ┆ 1            │\n",
       "│ 702136_2024-03-04 ┆ 1            │\n",
       "│ 668755_2023-08-31 ┆ 1            │\n",
       "│ 702136_2024-03-06 ┆ 1            │\n",
       "│ 712815_2024-05-22 ┆ 1            │\n",
       "│ …                 ┆ …            │\n",
       "│ 703880_2024-04-18 ┆ 7            │\n",
       "│ 733891_2024-09-18 ┆ 7            │\n",
       "│ 712815_2024-05-21 ┆ 7            │\n",
       "│ 733891_2024-09-19 ┆ 8            │\n",
       "│ 733780_2024-09-04 ┆ 8            │\n",
       "└───────────────────┴──────────────┘"
      ]
     },
     "execution_count": 19,
     "metadata": {},
     "output_type": "execute_result"
    }
   ],
   "source": [
    "(\n",
    "    delta\n",
    "    .group_by('session_id')\n",
    "    .agg(\n",
    "        pl.col('structure').n_unique().alias('n_structures'),\n",
    "    )\n",
    "    .collect()\n",
    "    .sort('n_structures')\n",
    ")"
   ]
  },
  {
   "cell_type": "code",
   "execution_count": 12,
   "id": "020b53bd-bef7-4a2f-93c1-cb7e2c908ef9",
   "metadata": {
    "tags": []
   },
   "outputs": [
    {
     "data": {
      "text/html": [
       "<div><style>\n",
       ".dataframe > thead > tr,\n",
       ".dataframe > tbody > tr {\n",
       "  text-align: right;\n",
       "  white-space: pre-wrap;\n",
       "}\n",
       "</style>\n",
       "<small>shape: (438, 7)</small><table border=\"1\" class=\"dataframe\"><thead><tr><th>session_id</th><th>structure</th><th>electrode_group_name</th><th>n_units</th><th>repeat_idx</th><th>mean_balanced_accuracy_test</th><th>mean_balanced_accuracy_test_shift_0</th></tr><tr><td>str</td><td>str</td><td>str</td><td>i32</td><td>list[i64]</td><td>list[f64]</td><td>f64</td></tr></thead><tbody><tr><td>&quot;649943_2023-02-16&quot;</td><td>&quot;MGv&quot;</td><td>&quot;probeD&quot;</td><td>20</td><td>[0, 1, … 24]</td><td>[0.547665, 0.539835, … 0.540562]</td><td>0.585301</td></tr><tr><td>&quot;741137_2024-10-11&quot;</td><td>&quot;SCm&quot;</td><td>&quot;probeC&quot;</td><td>20</td><td>[0, 1, … 24]</td><td>[0.684017, 0.685999, … 0.659854]</td><td>0.765812</td></tr><tr><td>&quot;636766_2023-01-26&quot;</td><td>&quot;ILA&quot;</td><td>&quot;probeE&quot;</td><td>20</td><td>[0, 1, … 24]</td><td>[0.541578, 0.557304, … 0.56375]</td><td>0.591123</td></tr><tr><td>&quot;726088_2024-06-20&quot;</td><td>&quot;DP&quot;</td><td>&quot;probeF&quot;</td><td>20</td><td>[0, 1, … 24]</td><td>[0.620756, 0.621033, … 0.614592]</td><td>0.665033</td></tr><tr><td>&quot;702136_2024-03-05&quot;</td><td>&quot;LD&quot;</td><td>&quot;probeB&quot;</td><td>20</td><td>[0, 1, … 24]</td><td>[0.513912, 0.540432, … 0.53868]</td><td>0.56173</td></tr><tr><td>&hellip;</td><td>&hellip;</td><td>&hellip;</td><td>&hellip;</td><td>&hellip;</td><td>&hellip;</td><td>&hellip;</td></tr><tr><td>&quot;712815_2024-05-21&quot;</td><td>&quot;SMT&quot;</td><td>&quot;probeA&quot;</td><td>20</td><td>[0, 1, … 24]</td><td>[0.567256, 0.576199, … 0.581139]</td><td>0.638409</td></tr><tr><td>&quot;741137_2024-10-11&quot;</td><td>&quot;POST&quot;</td><td>&quot;probeD&quot;</td><td>20</td><td>[0]</td><td>[0.555036]</td><td>0.574621</td></tr><tr><td>&quot;702131_2024-02-26&quot;</td><td>&quot;SSp&quot;</td><td>&quot;probeA&quot;</td><td>20</td><td>[0, 1, … 24]</td><td>[0.525138, 0.556091, … 0.537326]</td><td>0.583978</td></tr><tr><td>&quot;703333_2024-04-09&quot;</td><td>&quot;MOs&quot;</td><td>&quot;probeF&quot;</td><td>20</td><td>[0, 1, … 24]</td><td>[0.528424, 0.483619, … 0.500048]</td><td>0.529311</td></tr><tr><td>&quot;676909_2023-12-11&quot;</td><td>&quot;CP&quot;</td><td>&quot;probeA&quot;</td><td>20</td><td>[0, 1, … 24]</td><td>[0.563346, 0.564497, … 0.534523]</td><td>0.569032</td></tr></tbody></table></div>"
      ],
      "text/plain": [
       "shape: (438, 7)\n",
       "┌───────────────┬───────────┬───────────────┬─────────┬──────────────┬──────────────┬──────────────┐\n",
       "│ session_id    ┆ structure ┆ electrode_gro ┆ n_units ┆ repeat_idx   ┆ mean_balance ┆ mean_balance │\n",
       "│ ---           ┆ ---       ┆ up_name       ┆ ---     ┆ ---          ┆ d_accuracy_t ┆ d_accuracy_t │\n",
       "│ str           ┆ str       ┆ ---           ┆ i32     ┆ list[i64]    ┆ est          ┆ est_sh…      │\n",
       "│               ┆           ┆ str           ┆         ┆              ┆ ---          ┆ ---          │\n",
       "│               ┆           ┆               ┆         ┆              ┆ list[f64]    ┆ f64          │\n",
       "╞═══════════════╪═══════════╪═══════════════╪═════════╪══════════════╪══════════════╪══════════════╡\n",
       "│ 649943_2023-0 ┆ MGv       ┆ probeD        ┆ 20      ┆ [0, 1, … 24] ┆ [0.547665,   ┆ 0.585301     │\n",
       "│ 2-16          ┆           ┆               ┆         ┆              ┆ 0.539835, …  ┆              │\n",
       "│               ┆           ┆               ┆         ┆              ┆ 0.54056…     ┆              │\n",
       "│ 741137_2024-1 ┆ SCm       ┆ probeC        ┆ 20      ┆ [0, 1, … 24] ┆ [0.684017,   ┆ 0.765812     │\n",
       "│ 0-11          ┆           ┆               ┆         ┆              ┆ 0.685999, …  ┆              │\n",
       "│               ┆           ┆               ┆         ┆              ┆ 0.65985…     ┆              │\n",
       "│ 636766_2023-0 ┆ ILA       ┆ probeE        ┆ 20      ┆ [0, 1, … 24] ┆ [0.541578,   ┆ 0.591123     │\n",
       "│ 1-26          ┆           ┆               ┆         ┆              ┆ 0.557304, …  ┆              │\n",
       "│               ┆           ┆               ┆         ┆              ┆ 0.56375…     ┆              │\n",
       "│ 726088_2024-0 ┆ DP        ┆ probeF        ┆ 20      ┆ [0, 1, … 24] ┆ [0.620756,   ┆ 0.665033     │\n",
       "│ 6-20          ┆           ┆               ┆         ┆              ┆ 0.621033, …  ┆              │\n",
       "│               ┆           ┆               ┆         ┆              ┆ 0.61459…     ┆              │\n",
       "│ 702136_2024-0 ┆ LD        ┆ probeB        ┆ 20      ┆ [0, 1, … 24] ┆ [0.513912,   ┆ 0.56173      │\n",
       "│ 3-05          ┆           ┆               ┆         ┆              ┆ 0.540432, …  ┆              │\n",
       "│               ┆           ┆               ┆         ┆              ┆ 0.53868…     ┆              │\n",
       "│ …             ┆ …         ┆ …             ┆ …       ┆ …            ┆ …            ┆ …            │\n",
       "│ 712815_2024-0 ┆ SMT       ┆ probeA        ┆ 20      ┆ [0, 1, … 24] ┆ [0.567256,   ┆ 0.638409     │\n",
       "│ 5-21          ┆           ┆               ┆         ┆              ┆ 0.576199, …  ┆              │\n",
       "│               ┆           ┆               ┆         ┆              ┆ 0.58113…     ┆              │\n",
       "│ 741137_2024-1 ┆ POST      ┆ probeD        ┆ 20      ┆ [0]          ┆ [0.555036]   ┆ 0.574621     │\n",
       "│ 0-11          ┆           ┆               ┆         ┆              ┆              ┆              │\n",
       "│ 702131_2024-0 ┆ SSp       ┆ probeA        ┆ 20      ┆ [0, 1, … 24] ┆ [0.525138,   ┆ 0.583978     │\n",
       "│ 2-26          ┆           ┆               ┆         ┆              ┆ 0.556091, …  ┆              │\n",
       "│               ┆           ┆               ┆         ┆              ┆ 0.53732…     ┆              │\n",
       "│ 703333_2024-0 ┆ MOs       ┆ probeF        ┆ 20      ┆ [0, 1, … 24] ┆ [0.528424,   ┆ 0.529311     │\n",
       "│ 4-09          ┆           ┆               ┆         ┆              ┆ 0.483619, …  ┆              │\n",
       "│               ┆           ┆               ┆         ┆              ┆ 0.50004…     ┆              │\n",
       "│ 676909_2023-1 ┆ CP        ┆ probeA        ┆ 20      ┆ [0, 1, … 24] ┆ [0.563346,   ┆ 0.569032     │\n",
       "│ 2-11          ┆           ┆               ┆         ┆              ┆ 0.564497, …  ┆              │\n",
       "│               ┆           ┆               ┆         ┆              ┆ 0.53452…     ┆              │\n",
       "└───────────────┴───────────┴───────────────┴─────────┴──────────────┴──────────────┴──────────────┘"
      ]
     },
     "execution_count": 12,
     "metadata": {},
     "output_type": "execute_result"
    }
   ],
   "source": [
    "(\n",
    "    delta\n",
    "    .sort('repeat_idx')\n",
    "    # for each repeat, get mean accuracy across all shifts\n",
    "    .group_by('session_id', 'structure', 'electrode_group_name', 'n_units', 'repeat_idx', maintain_order=True)\n",
    "    .agg(\n",
    "        pl.mean('balanced_accuracy_test').alias('mean_balanced_accuracy_test'),\n",
    "        pl.col('balanced_accuracy_test').filter(pl.col('shift_idx').eq(0)).first().alias('balanced_accuracy_test_shift_0'),\n",
    "    )\n",
    "    # get mean of 0-shifts across repeats\n",
    "    .group_by('session_id', 'structure', 'electrode_group_name', 'n_units')\n",
    "    .agg(\n",
    "        pl.all().exclude('balanced_accuracy_test_shift_0'),\n",
    "        pl.mean('balanced_accuracy_test_shift_0').alias('mean_balanced_accuracy_test_shift_0'),\n",
    "    )\n",
    "    .collect()\n",
    ")"
   ]
  },
  {
   "cell_type": "code",
   "execution_count": 14,
   "id": "13c67aa4-86b1-4f20-91db-f69b0ed1f5f5",
   "metadata": {
    "tags": []
   },
   "outputs": [],
   "source": [
    "units = get_filtered_units(params).collect()"
   ]
  },
  {
   "cell_type": "code",
   "execution_count": null,
   "id": "e182b422-6de3-4263-98ae-b959b4a02674",
   "metadata": {},
   "outputs": [],
   "source": []
  },
  {
   "cell_type": "code",
   "execution_count": 18,
   "id": "7dd08316-f243-4ceb-ad55-a0458ebca0a6",
   "metadata": {
    "tags": []
   },
   "outputs": [],
   "source": [
    "units = utils.get_df('units', lazy=False)"
   ]
  },
  {
   "cell_type": "code",
   "execution_count": 21,
   "id": "58ecfa91-acf2-47ee-9647-6ef1e94205ec",
   "metadata": {
    "tags": []
   },
   "outputs": [
    {
     "data": {
      "text/plain": [
       "[<Expr ['col(\"session_id\")'] at 0x7EFC096D8B80>,\n",
       " <Expr ['col(\"structure\")'] at 0x7EFC096D9F90>,\n",
       " <Expr ['col(\"electrode_group_name\")'] at 0x7EFC096D9720>]"
      ]
     },
     "execution_count": 21,
     "metadata": {},
     "output_type": "execute_result"
    }
   ],
   "source": [
    "params.units_group_by"
   ]
  },
  {
   "cell_type": "code",
   "execution_count": 31,
   "id": "95d09842-518f-42f5-ab01-786e016324fb",
   "metadata": {
    "tags": []
   },
   "outputs": [
    {
     "data": {
      "text/html": [
       "[([([(col(\"isi_violations_ratio\")) <= (dyn float: 0.5)]) & ([(col(\"presence_ratio\")) >= (dyn float: 0.9)])]) & ([(col(\"amplitude_cutoff\")) <= (dyn float: 0.1)])]"
      ],
      "text/plain": [
       "<Expr ['[([([(col(\"isi_violations_rati…'] at 0x7EFC096DA080>"
      ]
     },
     "execution_count": 31,
     "metadata": {},
     "output_type": "execute_result"
    }
   ],
   "source": [
    "params.units_query"
   ]
  },
  {
   "cell_type": "code",
   "execution_count": 33,
   "id": "4c8232ef-c7d2-4a96-b8c6-0d94376278b2",
   "metadata": {
    "tags": []
   },
   "outputs": [
    {
     "data": {
      "text/html": [
       "<div><style>\n",
       ".dataframe > thead > tr,\n",
       ".dataframe > tbody > tr {\n",
       "  text-align: right;\n",
       "  white-space: pre-wrap;\n",
       "}\n",
       "</style>\n",
       "<small>shape: (4_096, 4)</small><table border=\"1\" class=\"dataframe\"><thead><tr><th>session_id</th><th>structure</th><th>electrode_group_name</th><th>n_units</th></tr><tr><td>str</td><td>str</td><td>str</td><td>u32</td></tr></thead><tbody><tr><td>&quot;703333_2024-04-10&quot;</td><td>&quot;out of brain&quot;</td><td>&quot;probeB&quot;</td><td>1</td></tr><tr><td>&quot;644864_2023-01-31&quot;</td><td>&quot;out of brain&quot;</td><td>&quot;probeA&quot;</td><td>1</td></tr><tr><td>&quot;699847_2024-04-16&quot;</td><td>&quot;out of brain&quot;</td><td>&quot;probeB&quot;</td><td>1</td></tr><tr><td>&quot;636397_2022-09-27&quot;</td><td>&quot;out of brain&quot;</td><td>&quot;probeF&quot;</td><td>1</td></tr><tr><td>&quot;626791_2022-08-16&quot;</td><td>&quot;out of brain&quot;</td><td>&quot;probeC&quot;</td><td>1</td></tr><tr><td>&hellip;</td><td>&hellip;</td><td>&hellip;</td><td>&hellip;</td></tr><tr><td>&quot;746439_2025-01-29&quot;</td><td>null</td><td>&quot;probeE&quot;</td><td>537</td></tr><tr><td>&quot;670180_2023-07-25&quot;</td><td>&quot;ProS&quot;</td><td>&quot;probeC&quot;</td><td>552</td></tr><tr><td>&quot;744740_2024-11-13&quot;</td><td>null</td><td>&quot;probeE&quot;</td><td>584</td></tr><tr><td>&quot;733780_2024-08-27&quot;</td><td>null</td><td>&quot;probeB&quot;</td><td>597</td></tr><tr><td>&quot;736208_2024-09-04&quot;</td><td>null</td><td>&quot;probeD&quot;</td><td>634</td></tr></tbody></table></div>"
      ],
      "text/plain": [
       "shape: (4_096, 4)\n",
       "┌───────────────────┬──────────────┬──────────────────────┬─────────┐\n",
       "│ session_id        ┆ structure    ┆ electrode_group_name ┆ n_units │\n",
       "│ ---               ┆ ---          ┆ ---                  ┆ ---     │\n",
       "│ str               ┆ str          ┆ str                  ┆ u32     │\n",
       "╞═══════════════════╪══════════════╪══════════════════════╪═════════╡\n",
       "│ 703333_2024-04-10 ┆ out of brain ┆ probeB               ┆ 1       │\n",
       "│ 644864_2023-01-31 ┆ out of brain ┆ probeA               ┆ 1       │\n",
       "│ 699847_2024-04-16 ┆ out of brain ┆ probeB               ┆ 1       │\n",
       "│ 636397_2022-09-27 ┆ out of brain ┆ probeF               ┆ 1       │\n",
       "│ 626791_2022-08-16 ┆ out of brain ┆ probeC               ┆ 1       │\n",
       "│ …                 ┆ …            ┆ …                    ┆ …       │\n",
       "│ 746439_2025-01-29 ┆ null         ┆ probeE               ┆ 537     │\n",
       "│ 670180_2023-07-25 ┆ ProS         ┆ probeC               ┆ 552     │\n",
       "│ 744740_2024-11-13 ┆ null         ┆ probeE               ┆ 584     │\n",
       "│ 733780_2024-08-27 ┆ null         ┆ probeB               ┆ 597     │\n",
       "│ 736208_2024-09-04 ┆ null         ┆ probeD               ┆ 634     │\n",
       "└───────────────────┴──────────────┴──────────────────────┴─────────┘"
      ]
     },
     "execution_count": 33,
     "metadata": {},
     "output_type": "execute_result"
    }
   ],
   "source": [
    "(\n",
    "    units\n",
    "    .pipe(group_structures, keep_originals=True)\n",
    "    .filter(\n",
    "        params.units_query,\n",
    "        pl.col('isi_violations_ratio').le(0.5),\n",
    "        pl.col('presence_ratio').ge(0.9),\n",
    "        pl.col('amplitude_cutoff').le\n",
    "    )\n",
    "    .filter(\n",
    "        pl.col('unit_id').n_unique().ge(params.n_units).over(params.units_group_by),\n",
    "    )\n",
    "    .group_by(*params.units_group_by)\n",
    "    .agg(\n",
    "        pl.col('unit_id').n_unique().alias('n_units'),\n",
    "    )\n",
    "    .sort('n_units')\n",
    ")\n"
   ]
  },
  {
   "cell_type": "code",
   "execution_count": 17,
   "id": "bb65228a-006d-4197-b298-3330db406805",
   "metadata": {
    "tags": []
   },
   "outputs": [
    {
     "data": {
      "text/html": [
       "<div><style>\n",
       ".dataframe > thead > tr,\n",
       ".dataframe > tbody > tr {\n",
       "  text-align: right;\n",
       "  white-space: pre-wrap;\n",
       "}\n",
       "</style>\n",
       "<small>shape: (4_096, 4)</small><table border=\"1\" class=\"dataframe\"><thead><tr><th>session_id</th><th>structure</th><th>electrode_group_name</th><th>n_units</th></tr><tr><td>str</td><td>str</td><td>str</td><td>u32</td></tr></thead><tbody><tr><td>&quot;626791_2022-08-16&quot;</td><td>&quot;out of brain&quot;</td><td>&quot;probeC&quot;</td><td>1</td></tr><tr><td>&quot;742903_2024-10-23&quot;</td><td>&quot;DG&quot;</td><td>&quot;probeE&quot;</td><td>1</td></tr><tr><td>&quot;733780_2024-08-26&quot;</td><td>&quot;TTd&quot;</td><td>&quot;probeF&quot;</td><td>1</td></tr><tr><td>&quot;699847_2024-04-16&quot;</td><td>&quot;out of brain&quot;</td><td>&quot;probeB&quot;</td><td>1</td></tr><tr><td>&quot;636766_2023-01-25&quot;</td><td>&quot;out of brain&quot;</td><td>&quot;probeE&quot;</td><td>1</td></tr><tr><td>&hellip;</td><td>&hellip;</td><td>&hellip;</td><td>&hellip;</td></tr><tr><td>&quot;746439_2025-01-29&quot;</td><td>null</td><td>&quot;probeE&quot;</td><td>537</td></tr><tr><td>&quot;670180_2023-07-25&quot;</td><td>&quot;ProS&quot;</td><td>&quot;probeC&quot;</td><td>552</td></tr><tr><td>&quot;744740_2024-11-13&quot;</td><td>null</td><td>&quot;probeE&quot;</td><td>584</td></tr><tr><td>&quot;733780_2024-08-27&quot;</td><td>null</td><td>&quot;probeB&quot;</td><td>597</td></tr><tr><td>&quot;736208_2024-09-04&quot;</td><td>null</td><td>&quot;probeD&quot;</td><td>634</td></tr></tbody></table></div>"
      ],
      "text/plain": [
       "shape: (4_096, 4)\n",
       "┌───────────────────┬──────────────┬──────────────────────┬─────────┐\n",
       "│ session_id        ┆ structure    ┆ electrode_group_name ┆ n_units │\n",
       "│ ---               ┆ ---          ┆ ---                  ┆ ---     │\n",
       "│ str               ┆ str          ┆ str                  ┆ u32     │\n",
       "╞═══════════════════╪══════════════╪══════════════════════╪═════════╡\n",
       "│ 626791_2022-08-16 ┆ out of brain ┆ probeC               ┆ 1       │\n",
       "│ 742903_2024-10-23 ┆ DG           ┆ probeE               ┆ 1       │\n",
       "│ 733780_2024-08-26 ┆ TTd          ┆ probeF               ┆ 1       │\n",
       "│ 699847_2024-04-16 ┆ out of brain ┆ probeB               ┆ 1       │\n",
       "│ 636766_2023-01-25 ┆ out of brain ┆ probeE               ┆ 1       │\n",
       "│ …                 ┆ …            ┆ …                    ┆ …       │\n",
       "│ 746439_2025-01-29 ┆ null         ┆ probeE               ┆ 537     │\n",
       "│ 670180_2023-07-25 ┆ ProS         ┆ probeC               ┆ 552     │\n",
       "│ 744740_2024-11-13 ┆ null         ┆ probeE               ┆ 584     │\n",
       "│ 733780_2024-08-27 ┆ null         ┆ probeB               ┆ 597     │\n",
       "│ 736208_2024-09-04 ┆ null         ┆ probeD               ┆ 634     │\n",
       "└───────────────────┴──────────────┴──────────────────────┴─────────┘"
      ]
     },
     "execution_count": 17,
     "metadata": {},
     "output_type": "execute_result"
    }
   ],
   "source": [
    "units.group_by(*params.units_group_by).agg(pl.col('unit_id').n_unique().alias('n_units')).sort('n_units')"
   ]
  }
 ],
 "metadata": {
  "kernelspec": {
   "display_name": "Python 3 (ipykernel)",
   "language": "python",
   "name": "python3"
  },
  "language_info": {
   "codemirror_mode": {
    "name": "ipython",
    "version": 3
   },
   "file_extension": ".py",
   "mimetype": "text/x-python",
   "name": "python",
   "nbconvert_exporter": "python",
   "pygments_lexer": "ipython3",
   "version": "3.10.12"
  }
 },
 "nbformat": 4,
 "nbformat_minor": 5
}
